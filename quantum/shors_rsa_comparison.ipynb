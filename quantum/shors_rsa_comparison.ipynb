{
 "cells": [
  {
   "cell_type": "code",
   "execution_count": null,
   "metadata": {},
   "outputs": [],
   "source": [
    "import qiskit\n",
    "from qiskit import QuantumCircuit, transpile, assemble, Aer\n",
    "from qiskit.algorithms import Shor\n",
    "from qiskit.utils import QuantumInstance\n",
    "import time\n",
    "import math\n",
    "import matplotlib.pyplot as plt\n",
    "import pandas as pd\n"
   ]
  },
  {
   "cell_type": "markdown",
   "metadata": {},
   "source": [
    "# Cell 2: Shor's Algorithm Implementation (Simplified/High-Level)\n",
    "# Note: Shor's algorithm for factoring large numbers is computationally\n",
    "# very intensive even for simulators. We'll stick to small numbers."
   ]
  },
  {
   "cell_type": "code",
   "execution_count": null,
   "metadata": {},
   "outputs": [],
   "source": [
    "def run_shors_for_n(n_value):\n",
    "    print(f\"Trying to factor N={n_value} with Shor's algorithm...\")\n",
    "    start = time.time()\n",
    "\n",
    "    # Rough estimate for qubits needed\n",
    "    qubits_required = 0\n",
    "    if n_value > 1:\n",
    "        qubits_required = 2 * math.ceil(math.log2(n_value)) + n_value.bit_length() + 1\n",
    "    print(f\"Need about {qubits_required} qubits for N={n_value}\")\n",
    "\n",
    "    # Set up simulator\n",
    "    backend = Aer.get_backend('qasm_simulator')\n",
    "    quantum_instance = QuantumInstance(backend, shots=1024)\n",
    "\n",
    "    try:\n",
    "        shor = Shor(N=n_value, a=2, quantum_instance=quantum_instance)\n",
    "        result = shor.factor()\n",
    "        factors = result.factors[0]\n",
    "        print(f\"Got factors for {n_value}: {factors}\")\n",
    "    except Exception as e:\n",
    "        factors = []\n",
    "        print(f\"Shor's failed for N={n_value}: {e}. Maybe N's too small or simulator's struggling.\")\n",
    "\n",
    "    time_to_factor = (time.time() - start) * 1000  # Convert to ms\n",
    "    return time_to_factor, qubits_required, factors"
   ]
  },
  {
   "cell_type": "code",
   "execution_count": null,
   "metadata": {},
   "outputs": [],
   "source": [
    "rsa_moduli = [15, 21, 35] # Small moduli as requested\n",
    "\n",
    "shor_results = []\n",
    "for modulus in rsa_moduli:\n",
    "    factor_time, qubits, factors = run_shors_for_n(modulus)\n",
    "    shor_results.append({\n",
    "        'modulus_size': modulus,\n",
    "        'time_to_factor_ms': factor_time,\n",
    "        'qubits_required': qubits,\n",
    "        'factors': factors\n",
    "    })\n",
    "\n",
    "shor_df = pd.DataFrame(shor_results)\n",
    "print(\"\\nShor's Algorithm Simulation Results:\")\n",
    "print(shor_df)"
   ]
  },
  {
   "cell_type": "code",
   "execution_count": null,
   "metadata": {},
   "outputs": [],
   "source": [
    "try:\n",
    "    kyber_log_df = pd.read_csv('results/log.csv')\n",
    "    avg_kyber_encrypt_time = kyber_log_df['encrypt_time_ms'].mean()\n",
    "    print(f\"\\nAverage Kyber Encryption Time: {avg_kyber_encrypt_time:.4f} ms (from log.csv)\")\n",
    "except FileNotFoundError:\n",
    "    avg_kyber_encrypt_time = None\n",
    "    print(\"\\nWarning: log.csv not found. Cannot compare with Kyber encryption time.\")"
   ]
  },
  {
   "cell_type": "code",
   "execution_count": null,
   "metadata": {},
   "outputs": [],
   "source": [
    "# Visualization - RSA Break Time vs Modulus Size\n",
    "plt.figure(figsize=(10, 6))\n",
    "plt.bar(shor_df['modulus_size'].astype(str), shor_df['time_to_factor_ms'], color='skyblue')\n",
    "plt.xlabel('RSA Modulus Size (N)')\n",
    "plt.ylabel('Time to Factor (ms)')\n",
    "plt.title(\"Shor's Algorithm Simulation: Time to Factor RSA Modulus\")\n",
    "plt.grid(axis='y', linestyle='--')\n",
    "plt.savefig('results/images/rsa_break_time.png')\n",
    "plt.show()"
   ]
  },
  {
   "cell_type": "code",
   "execution_count": null,
   "metadata": {},
   "outputs": [],
   "source": [
    "# Table Comparing to Kyber Encryption Time\n",
    "comparison_data = []\n",
    "for index, row in shor_df.iterrows():\n",
    "    comparison_data.append({\n",
    "        'Algorithm': f\"RSA (N={row['modulus_size']})\",\n",
    "        'Time (ms)': row['time_to_factor_ms'],\n",
    "        'Notes': f\"Shor's Algorithm, Qubits: {row['qubits_required']}\"\n",
    "    })\n",
    "\n",
    "if avg_kyber_encrypt_time is not None:\n",
    "    comparison_data.append({\n",
    "        'Algorithm': 'Kyber (Encryption)',\n",
    "        'Time (ms)': avg_kyber_encrypt_time,\n",
    "        'Notes': 'Average from PQC benchmark'\n",
    "    })\n",
    "\n",
    "comparison_df = pd.DataFrame(comparison_data)\n",
    "print(\"\\nComparison: RSA Break Time vs Kyber Encryption Time\")\n",
    "print(comparison_df.to_markdown(index=False)) # For easy viewing in markdown/notebook\n",
    "\n",
    "# Save this notebook as shors_rsa_comparison.ipynb in the quantum/ directory.\n"
   ]
  },
  {
   "cell_type": "code",
   "execution_count": null,
   "metadata": {},
   "outputs": [],
   "source": []
  }
 ],
 "metadata": {
  "kernelspec": {
   "display_name": "venv",
   "language": "python",
   "name": "python3"
  },
  "language_info": {
   "name": "python",
   "version": "3.13.3"
  }
 },
 "nbformat": 4,
 "nbformat_minor": 2
}
